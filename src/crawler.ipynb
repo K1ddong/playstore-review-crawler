{
 "cells": [
  {
   "cell_type": "markdown",
   "metadata": {},
   "source": [
    "# 초기 설정"
   ]
  },
  {
   "cell_type": "markdown",
   "metadata": {},
   "source": [
    "## 크롬 드라이버 세팅"
   ]
  },
  {
   "cell_type": "code",
   "execution_count": null,
   "metadata": {},
   "outputs": [],
   "source": [
    "# chrome_driver = '../chromedriver.exe' # 파일 확장자 이름 표기\n",
    "chrome_driver = '../chromedriver' # 파일 확장자 이름 미표기"
   ]
  },
  {
   "cell_type": "markdown",
   "metadata": {},
   "source": [
    "## 수집할 앱 주소(구글 플레이 스토어)"
   ]
  },
  {
   "cell_type": "code",
   "execution_count": null,
   "metadata": {},
   "outputs": [],
   "source": [
    "url = 'https://play.google.com/store/apps/details?id=com.github.android' # 예시: Github App 주소"
   ]
  },
  {
   "cell_type": "markdown",
   "metadata": {},
   "source": [
    "# 패키지 import"
   ]
  },
  {
   "cell_type": "code",
   "execution_count": 1,
   "metadata": {},
   "outputs": [],
   "source": [
    "import requests\n",
    "from selenium import webdriver\n",
    "from selenium.webdriver.common.keys import Keys\n",
    "from selenium.webdriver.support.ui import WebDriverWait\n",
    "from selenium.webdriver.support import expected_conditions as EC\n",
    "from selenium.webdriver.common.by import By\n",
    "from selenium.webdriver.common.keys import Keys\n",
    "from bs4 import BeautifulSoup\n",
    "import time\n",
    "from time import sleep\n",
    "\n",
    "from tqdm.auto import tqdm, trange\n",
    "import pandas as pd"
   ]
  },
  {
   "cell_type": "markdown",
   "metadata": {},
   "source": [
    "# 웹 크롤링"
   ]
  },
  {
   "cell_type": "markdown",
   "metadata": {},
   "source": [
    "## 무한 스크롤"
   ]
  },
  {
   "cell_type": "code",
   "execution_count": 6,
   "metadata": {},
   "outputs": [],
   "source": [
    "def scrolling():\n",
    "    try:        \n",
    "        # 스크롤 높이 받아오기\n",
    "        last_height = driver.execute_script(\"return document.body.scrollHeight\")\n",
    "        while True:\n",
    "            pause_time = random.uniform(0.5, 0.8)\n",
    "            # 최하단까지 스크롤\n",
    "            driver.execute_script(\"window.scrollTo(0, document.body.scrollHeight);\")\n",
    "            # 페이지 로딩 대기\n",
    "            time.sleep(pause_time)\n",
    "            # 무한 스크롤 동작을 위해 살짝 위로 스크롤\n",
    "            driver.execute_script(\"window.scrollTo(0, document.body.scrollHeight-50);\")\n",
    "            time.sleep(pause_time)\n",
    "            # 스크롤 높이 새롭게 받아오기\n",
    "            new_height = driver.execute_script(\"return document.body.scrollHeight\")\n",
    "            try:\n",
    "                # '더보기' 버튼 있을 경우 클릭\n",
    "                more_btn = driver.find_element_by_xpath('/html/body/div[1]/div[4]/c-wiz/div/div[2]/div/div/main/div/div[1]/div[2]/div[2]/div/span/span').click()\n",
    "            except:\n",
    "                # 스크롤 완료 경우\n",
    "                if new_height == last_height:\n",
    "                    print(\"Scrolling is completed!!!\")\n",
    "                    break\n",
    "                last_height = new_height\n",
    "                \n",
    "    except Exception as e:\n",
    "        print(\"error occurred: \", e)"
   ]
  },
  {
   "cell_type": "markdown",
   "metadata": {},
   "source": [
    "## HTML 데이터 가져오기"
   ]
  },
  {
   "cell_type": "code",
   "execution_count": 9,
   "metadata": {
    "collapsed": true,
    "jupyter": {
     "outputs_hidden": true
    },
    "tags": []
   },
   "outputs": [
    {
     "name": "stdout",
     "output_type": "stream",
     "text": [
      "Scrolling is completed!!!\n"
     ]
    },
    {
     "ename": "NameError",
     "evalue": "name 'save_soup' is not defined",
     "output_type": "error",
     "traceback": [
      "\u001b[0;31m---------------------------------------------------------------------------\u001b[0m",
      "\u001b[0;31mNameError\u001b[0m                                 Traceback (most recent call last)",
      "\u001b[0;32m<ipython-input-9-43370801a3d2>\u001b[0m in \u001b[0;36m<module>\u001b[0;34m\u001b[0m\n\u001b[1;32m     10\u001b[0m \u001b[0mscrolling\u001b[0m\u001b[0;34m(\u001b[0m\u001b[0;34m)\u001b[0m\u001b[0;34m\u001b[0m\u001b[0;34m\u001b[0m\u001b[0m\n\u001b[1;32m     11\u001b[0m \u001b[0;31m# soup source 저장하기.\u001b[0m\u001b[0;34m\u001b[0m\u001b[0;34m\u001b[0m\u001b[0;34m\u001b[0m\u001b[0m\n\u001b[0;32m---> 12\u001b[0;31m \u001b[0msoup_src\u001b[0m \u001b[0;34m=\u001b[0m \u001b[0msave_soup\u001b[0m\u001b[0;34m(\u001b[0m\u001b[0mdriver\u001b[0m\u001b[0;34m)\u001b[0m\u001b[0;34m\u001b[0m\u001b[0;34m\u001b[0m\u001b[0m\n\u001b[0m\u001b[1;32m     13\u001b[0m \u001b[0mAppInfo\u001b[0m \u001b[0;34m=\u001b[0m \u001b[0mappInfo_setup\u001b[0m\u001b[0;34m(\u001b[0m\u001b[0msoup_src\u001b[0m\u001b[0;34m)\u001b[0m\u001b[0;34m\u001b[0m\u001b[0;34m\u001b[0m\u001b[0m\n\u001b[1;32m     14\u001b[0m \u001b[0mAppInfo_lst\u001b[0m\u001b[0;34m.\u001b[0m\u001b[0mto_excel\u001b[0m\u001b[0;34m(\u001b[0m\u001b[0;34m'./appInfo_test_0306.xlsx'\u001b[0m\u001b[0;34m)\u001b[0m\u001b[0;34m\u001b[0m\u001b[0;34m\u001b[0m\u001b[0m\n",
      "\u001b[0;31mNameError\u001b[0m: name 'save_soup' is not defined"
     ]
    }
   ],
   "source": [
    "driver = webdriver.Chrome(chrome_driver)\n",
    "# 페이지열기\n",
    "driver.get(url)\n",
    "# 페이지 로딩 대기\n",
    "wait = WebDriverWait(driver, 5)\n",
    "xpath_code = '/html/body/div[1]/div[4]/c-wiz/div/div[2]/div/div/main/div/div[1]/div[2]/div/div[1]/div/div[2]/div[1]/div[2]/div/div[2]/span/span/span'\n",
    "chk_loading = wait.until(EC.element_to_be_clickable((By.XPATH, xpath_code)))\n",
    "# 페이지 무한 스크롤 다운\n",
    "scrolling()\n",
    "# html parsing하기\n",
    "html_src = driver.page_source\n",
    "soup_src = BeautifulSoup(html_src, 'html.parser')"
   ]
  },
  {
   "cell_type": "markdown",
   "metadata": {},
   "source": [
    "## HTML 데이터 저장"
   ]
  },
  {
   "cell_type": "code",
   "execution_count": 121,
   "metadata": {},
   "outputs": [],
   "source": [
    "# html 데이터 저장\n",
    "with open(\"../dataset/html_data.html\", \"w\", encoding = 'utf-8') as file:\n",
    "    file.write(str(soup_src))"
   ]
  },
  {
   "cell_type": "markdown",
   "metadata": {},
   "source": [
    "## 데이터프레임 형태로 변형"
   ]
  },
  {
   "cell_type": "code",
   "execution_count": 210,
   "metadata": {},
   "outputs": [
    {
     "data": {
      "application/vnd.jupyter.widget-view+json": {
       "model_id": "5916a32560e34e4abb321921a4f900b7",
       "version_major": 2,
       "version_minor": 0
      },
      "text/plain": [
       "  0%|          | 0/23215 [00:00<?, ?it/s]"
      ]
     },
     "metadata": {},
     "output_type": "display_data"
    },
    {
     "name": "stdout",
     "output_type": "stream",
     "text": [
      "39.170166015625\n"
     ]
    }
   ],
   "source": [
    "start = time.time() # 코드 실행 시간 측정을 위한 변수\n",
    "date_ymd = [] # 리뷰등록일을 yyyymmdd 형태로 저장할 리스트 생성\n",
    "date_y = [] # 리뷰등록일 중 연도 정보를 yyyy 형태로 저장할 리스트 생성\n",
    "date_m = [] # 리뷰등록일 중 월 정보를 mm 형태 저장할 리스트 생성\n",
    "date_d = [] # 리뷰등록일 중 일 정보를 dd 형태로 저장할 리스트 생성\n",
    "username_list = [] # 사용자 닉네임 저장용 리스트\n",
    "rating_list = [] # 평점 데이터 저장용 리스트\n",
    "content_list = [] # 텍스트 리뷰 저장용 리스트\n",
    "\n",
    "# 리뷰 1개씩 접근해 정보 추출\n",
    "for rv in tqdm(review_all):\n",
    "    \n",
    "    date_ymd_v = rv.find_all(class_ = 'p2TkOb')[0].text\n",
    "    date_y_v = date_ymd_v[0:4] # 연도 정보만 추출\n",
    "    # 해당 단어가 등장한 인덱스 추출\n",
    "    idx_y = date_ymd_v.find('년')\n",
    "    idx_m = date_ymd_v.find('월')\n",
    "    idx_d = date_ymd_v.find('일')\n",
    "    date_m_v = str(int(date_ymd_v[idx_y+1:idx_m])) # 월 정보만 추출\n",
    "    date_d_v = str(int(date_ymd_v[idx_m+1:idx_d])) # 일 정보만 추출\n",
    "    \n",
    "    # 월 정보가 1자리의 경우 앞에 0 붙여줌(e.g., 1월 -> 01월)\n",
    "    if len(date_m_v) == 1:\n",
    "        date_m_v = '0' + date_m_v\n",
    "    # 일 정보가 1자리의 경우 앞에 0 붙여줌(e.g., 7일 -> 07일)\n",
    "    if len(date_d_v) == 1:\n",
    "        date_d_v = '0' + date_d_v\n",
    "    \n",
    "    # 리뷰등록일 full version은 최종적으로 yyyymmdd 형태로 저장\n",
    "    date_full = date_y_v + date_m_v + date_d_v\n",
    "    date_ymd.append(date_full)\n",
    "    date_y.append(date_y_v)\n",
    "    date_m.append(date_m_v)\n",
    "    date_d.append(date_d_v)\n",
    "    username_list.append(rv.find_all(class_ = 'X43Kjb')[0].text) # 닉네임 정보 추출 및 저장\n",
    "    rating_list.append(rv.select('span.nt2C1d > .pf5lIe > div')[0]['aria-label'][10]) # 평점 정보 추출 및 저장\n",
    "    content = rv.find_all('span', attrs={'jsname':\"fbQN7e\"})[0].text # 장문 리뷰 내용 추출 및 저장\n",
    "    # 장문 리뷰 존재하는 경우 그대로 리스트에 저장\n",
    "    if content:\n",
    "        content_list.append(content)\n",
    "    # 단문 리뷰만 존재하는 경우, 단문 리뷰 추출 및 저장\n",
    "    else:\n",
    "        content_list.append(rv.find_all('span', attrs={'jsname':\"bN97Pc\"})[0].text)\n",
    "# 코드 실행 소요시간 출력\n",
    "print(time.time() - start)"
   ]
  },
  {
   "cell_type": "markdown",
   "metadata": {},
   "source": [
    "## 데이터프레임 저장"
   ]
  },
  {
   "cell_type": "code",
   "execution_count": 211,
   "metadata": {},
   "outputs": [
    {
     "name": "stdout",
     "output_type": "stream",
     "text": [
      "0.18182086944580078\n"
     ]
    }
   ],
   "source": [
    "start = time.time() # 코드 실행 시간 측정을 위한 변수\n",
    "rv_df = pd.DataFrame({'id': range(len(date_ymd)), # userID 임의부여\n",
    "                      'date': date_ymd, # 리뷰등록일 전체(yyyymmdd)\n",
    "                      'date_y': date_y, # 리뷰등록일 중 연도(yyyy)\n",
    "                      'date_m': date_m, # 리뷰등록일 중 월(mm)\n",
    "                      'date_d': date_d, # 리뷰등록일 중 일(dd)\n",
    "                     'username': username_list, # 사용자 닉네임\n",
    "                     'rating': rating_list, # 평점\n",
    "                     'content': content_list}) # 리뷰 내용\n",
    "rv_df.to_csv('../dataset/review_dataset.csv', encoding = 'utf-8-sig') # csv 파일로 저장\n",
    "\n",
    "print(time.time() - start) # 코드 실행 소요시간 출력"
   ]
  },
  {
   "cell_type": "markdown",
   "metadata": {},
   "source": [
    "# 리뷰 데이터 불러오기"
   ]
  },
  {
   "cell_type": "code",
   "execution_count": 3,
   "metadata": {},
   "outputs": [
    {
     "data": {
      "text/html": [
       "<div>\n",
       "<style scoped>\n",
       "    .dataframe tbody tr th:only-of-type {\n",
       "        vertical-align: middle;\n",
       "    }\n",
       "\n",
       "    .dataframe tbody tr th {\n",
       "        vertical-align: top;\n",
       "    }\n",
       "\n",
       "    .dataframe thead th {\n",
       "        text-align: right;\n",
       "    }\n",
       "</style>\n",
       "<table border=\"1\" class=\"dataframe\">\n",
       "  <thead>\n",
       "    <tr style=\"text-align: right;\">\n",
       "      <th></th>\n",
       "      <th>id</th>\n",
       "      <th>date</th>\n",
       "      <th>date_y</th>\n",
       "      <th>date_m</th>\n",
       "      <th>date_d</th>\n",
       "      <th>username</th>\n",
       "      <th>rating</th>\n",
       "      <th>content</th>\n",
       "    </tr>\n",
       "  </thead>\n",
       "  <tbody>\n",
       "    <tr>\n",
       "      <td>0</td>\n",
       "      <td>0</td>\n",
       "      <td>20210901</td>\n",
       "      <td>2021</td>\n",
       "      <td>9</td>\n",
       "      <td>1</td>\n",
       "      <td>맑은강물</td>\n",
       "      <td>1</td>\n",
       "      <td>핸폰바꿔서 다시 시작하는데 휴대폰인증 단계에서 인증번호요청 그게 안됩니다. 몇번이고...</td>\n",
       "    </tr>\n",
       "    <tr>\n",
       "      <td>1</td>\n",
       "      <td>1</td>\n",
       "      <td>20210827</td>\n",
       "      <td>2021</td>\n",
       "      <td>8</td>\n",
       "      <td>27</td>\n",
       "      <td>김미룡시</td>\n",
       "      <td>1</td>\n",
       "      <td>업데이트 공지 보고 설정에 구글플레이스토어 캐시및데이터 삭제하고 재설치하고 마지막 ...</td>\n",
       "    </tr>\n",
       "    <tr>\n",
       "      <td>2</td>\n",
       "      <td>2</td>\n",
       "      <td>20210902</td>\n",
       "      <td>2021</td>\n",
       "      <td>9</td>\n",
       "      <td>2</td>\n",
       "      <td>김태환</td>\n",
       "      <td>1</td>\n",
       "      <td>가끔 어플 켜지도 않았었는데 접속하면 지문인식 5회 실패라고 뜹니다 이거 너무 불편...</td>\n",
       "    </tr>\n",
       "    <tr>\n",
       "      <td>3</td>\n",
       "      <td>3</td>\n",
       "      <td>20210829</td>\n",
       "      <td>2021</td>\n",
       "      <td>8</td>\n",
       "      <td>29</td>\n",
       "      <td>aAAa 1</td>\n",
       "      <td>1</td>\n",
       "      <td>아니...폰바꾸고 지문등록하고 잘들어가졌는데 지문추가해서 지문재등록하라고 뜬뒤로 안...</td>\n",
       "    </tr>\n",
       "    <tr>\n",
       "      <td>4</td>\n",
       "      <td>4</td>\n",
       "      <td>20210829</td>\n",
       "      <td>2021</td>\n",
       "      <td>8</td>\n",
       "      <td>29</td>\n",
       "      <td>문치르</td>\n",
       "      <td>1</td>\n",
       "      <td>공동인증서 로그인하려니 폐기된 인증서라함. 다시 인증서 받아오려니 이미 유효한 인증...</td>\n",
       "    </tr>\n",
       "  </tbody>\n",
       "</table>\n",
       "</div>"
      ],
      "text/plain": [
       "   id      date  date_y  date_m  date_d username  rating  \\\n",
       "0   0  20210901    2021       9       1     맑은강물       1   \n",
       "1   1  20210827    2021       8      27     김미룡시       1   \n",
       "2   2  20210902    2021       9       2      김태환       1   \n",
       "3   3  20210829    2021       8      29   aAAa 1       1   \n",
       "4   4  20210829    2021       8      29      문치르       1   \n",
       "\n",
       "                                             content  \n",
       "0  핸폰바꿔서 다시 시작하는데 휴대폰인증 단계에서 인증번호요청 그게 안됩니다. 몇번이고...  \n",
       "1  업데이트 공지 보고 설정에 구글플레이스토어 캐시및데이터 삭제하고 재설치하고 마지막 ...  \n",
       "2  가끔 어플 켜지도 않았었는데 접속하면 지문인식 5회 실패라고 뜹니다 이거 너무 불편...  \n",
       "3  아니...폰바꾸고 지문등록하고 잘들어가졌는데 지문추가해서 지문재등록하라고 뜬뒤로 안...  \n",
       "4  공동인증서 로그인하려니 폐기된 인증서라함. 다시 인증서 받아오려니 이미 유효한 인증...  "
      ]
     },
     "execution_count": 3,
     "metadata": {},
     "output_type": "execute_result"
    }
   ],
   "source": [
    "# 저장한 리뷰 정보 불러오기\n",
    "rv_df = pd.read_csv('../dataset/review_dataset.csv', encoding = 'utf-8-sig')\n",
    "rv_df = rv_df.drop(['Unnamed: 0'], axis = 1) # 불필요한 칼럼 삭제\n",
    "rv_df.head()"
   ]
  },
  {
   "cell_type": "code",
   "execution_count": null,
   "metadata": {},
   "outputs": [],
   "source": []
  }
 ],
 "metadata": {
  "kernelspec": {
   "display_name": "Python 3",
   "language": "python",
   "name": "python3"
  },
  "language_info": {
   "codemirror_mode": {
    "name": "ipython",
    "version": 3
   },
   "file_extension": ".py",
   "mimetype": "text/x-python",
   "name": "python",
   "nbconvert_exporter": "python",
   "pygments_lexer": "ipython3",
   "version": "3.7.4"
  },
  "toc-autonumbering": true
 },
 "nbformat": 4,
 "nbformat_minor": 4
}
